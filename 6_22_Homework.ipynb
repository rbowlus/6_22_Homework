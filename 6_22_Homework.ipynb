{
 "cells": [
  {
   "cell_type": "code",
   "execution_count": 8,
   "id": "0f3224ba",
   "metadata": {},
   "outputs": [
    {
     "data": {
      "text/plain": [
       "['Argentina', 'San Diego', 'Boston', 'New York']"
      ]
     },
     "execution_count": 8,
     "metadata": {},
     "output_type": "execute_result"
    }
   ],
   "source": [
    "# Exercise 1: Filter out all of the empty strings from the list below\n",
    "places = [' ', 'Argentina', '  ', 'San Diego', '', '   ', '', 'Boston', 'New York']\n",
    "# = [Argentina, San Diego, Boston, New York]\n",
    "\n",
    "\n",
    "list(filter(lambda x: x.strip(), places))"
   ]
  },
  {
   "cell_type": "code",
   "execution_count": 6,
   "id": "58006955",
   "metadata": {},
   "outputs": [
    {
     "data": {
      "text/plain": [
       "['Victor aNisimov',\n",
       " 'Andrew P. Garfield',\n",
       " 'David HassELHOFF',\n",
       " 'Connor Milliken',\n",
       " 'Oprah wInfrey']"
      ]
     },
     "execution_count": 6,
     "metadata": {},
     "output_type": "execute_result"
    }
   ],
   "source": [
    "# Exercise 2: Write an anonymous function that sorts this list by the last name...\n",
    "# Hint: Use the \".sort()\" method and access the key\"\n",
    "\n",
    "# .sort(key=)\n",
    "authors = [\"Connor Milliken\", \"Victor aNisimov\", \"Andrew P. Garfield\", \"David HassELHOFF\", \"Oprah wInfrey\"]\n",
    "\n",
    "sorted(authors, key=lambda t:t.split()[-1].lower() )"
   ]
  },
  {
   "cell_type": "code",
   "execution_count": 14,
   "id": "69783666",
   "metadata": {},
   "outputs": [
    {
     "data": {
      "text/plain": [
       "[('Nassau', 89.6), ('Boston', 53.6), ('Los Angeles', 111.2), ('Miami', 84.2)]"
      ]
     },
     "execution_count": 14,
     "metadata": {},
     "output_type": "execute_result"
    }
   ],
   "source": [
    "# Exercise 3: Convert the list below from Celsius to Farhenheit, using the map function with a lambda...\n",
    "\n",
    "places = [('Nassau', 32), ('Boston', 12), ('Los Angeles', 44), ('Miami', 29)]\n",
    "\n",
    "#F = C * 9/5 + 32\n",
    "\n",
    "list(map(lambda n: (n[0], n[1]*9/5 +32), places))"
   ]
  },
  {
   "cell_type": "code",
   "execution_count": 21,
   "id": "affda7ff",
   "metadata": {},
   "outputs": [
    {
     "data": {
      "text/plain": [
       "3"
      ]
     },
     "execution_count": 21,
     "metadata": {},
     "output_type": "execute_result"
    }
   ],
   "source": [
    "# Exercise 4: Write a recursive function to perform the fibonacci sequence up to the number passed in.\n",
    "\n",
    "def fib_seq(n):\n",
    "    \n",
    "# Option 1 works but is more tedious     \n",
    "#     if n < 0:\n",
    "#         return False\n",
    "#     if n == 0:\n",
    "#         return 0\n",
    "#     if n == 1:\n",
    "#         return 1\n",
    "\n",
    "    if n < 2:\n",
    "        return n\n",
    "    else:\n",
    "        return fib_seq(n-1) + fib_seq(n-2)\n",
    "\n",
    "        \n",
    "        \n",
    "fib_seq(4)\n",
    "\n",
    "#fib = 0, 1, 1, 2, 3, 5, 8, 13, 21 etc"
   ]
  },
  {
   "cell_type": "code",
   "execution_count": null,
   "id": "5577b4ee",
   "metadata": {},
   "outputs": [],
   "source": []
  }
 ],
 "metadata": {
  "kernelspec": {
   "display_name": "Python 3",
   "language": "python",
   "name": "python3"
  },
  "language_info": {
   "codemirror_mode": {
    "name": "ipython",
    "version": 3
   },
   "file_extension": ".py",
   "mimetype": "text/x-python",
   "name": "python",
   "nbconvert_exporter": "python",
   "pygments_lexer": "ipython3",
   "version": "3.9.5"
  }
 },
 "nbformat": 4,
 "nbformat_minor": 5
}
